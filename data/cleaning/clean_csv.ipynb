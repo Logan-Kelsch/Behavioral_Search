{
 "cells": [
  {
   "cell_type": "code",
   "execution_count": 6,
   "id": "927a3de4",
   "metadata": {},
   "outputs": [
    {
     "name": "stdout",
     "output_type": "stream",
     "text": [
      "header written, lines read..\n",
      "file written..\n",
      "files closed.\n"
     ]
    }
   ],
   "source": [
    "import csv_cleaner\n",
    "\n",
    "csv_cleaner.set_csv('es15__5.csv','cleaned.csv')"
   ]
  }
 ],
 "metadata": {
  "kernelspec": {
   "display_name": ".venv",
   "language": "python",
   "name": "python3"
  },
  "language_info": {
   "codemirror_mode": {
    "name": "ipython",
    "version": 3
   },
   "file_extension": ".py",
   "mimetype": "text/x-python",
   "name": "python",
   "nbconvert_exporter": "python",
   "pygments_lexer": "ipython3",
   "version": "3.12.3"
  }
 },
 "nbformat": 4,
 "nbformat_minor": 5
}
