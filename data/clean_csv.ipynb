{
 "cells": [
  {
   "cell_type": "code",
   "execution_count": null,
   "id": "927a3de4",
   "metadata": {},
   "outputs": [],
   "source": [
    "import csv_cleaner\n",
    "\n",
    "csv_cleaner.set_csv('es15_4.csv','cleaned.csv')"
   ]
  }
 ],
 "metadata": {
  "kernelspec": {
   "display_name": ".venv",
   "language": "python",
   "name": "python3"
  },
  "language_info": {
   "codemirror_mode": {
    "name": "ipython",
    "version": 3
   },
   "file_extension": ".py",
   "mimetype": "text/x-python",
   "name": "python",
   "nbconvert_exporter": "python",
   "pygments_lexer": "ipython3",
   "version": "3.12.3"
  }
 },
 "nbformat": 4,
 "nbformat_minor": 5
}
