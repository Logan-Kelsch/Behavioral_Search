{
 "cells": [
  {
   "cell_type": "code",
   "execution_count": null,
   "id": "d41c4ce5",
   "metadata": {},
   "outputs": [],
   "source": [
    "import genetic_algorithm.population as population\n",
    "import genetic_algorithm.transforms as transforms\n",
    "import genetic_algorithm.optimize as optimize\n",
    "import genetic_algorithm.utility as utility\n",
    "import pandas as pd\n",
    "import numpy as np\n",
    "import genetic_algorithm.visualization as visualization\n",
    "from sklearn.preprocessing import StandardScaler\n",
    "from sklearn.model_selection import train_test_split\n",
    "import genetic_algorithm.evaluation as evaluation\n",
    "\n",
    "\n",
    "data = pd.read_csv(\"../data/ES15.csv\")\n",
    "x_raw = data.values\n",
    "\n",
    "dirpath = utility.fetch_new_run_dirpath()\n",
    "\n",
    "pop = population.generate_random_forest(250, 12)\n",
    "\n",
    "np.seterr(all='ignore')\n",
    "best_forest, best_scores, best_overtime = optimize.optimize_constants(\n",
    "    pop, x_raw, sthresh_q=.1, run_dir=dirpath\n",
    ")\n",
    "\n",
    "img = visualization.visualize_tree(best_forest[best_scores.index(min(best_scores))], run_dir=dirpath)\n",
    "newforest , newscores = population.extract_n_best_trees(best_forest, best_scores, -1, run_dir=dirpath)\n",
    "\n",
    "x_ = transforms.forest2features(\n",
    "    population=newforest,\n",
    "    x_raw=x_raw\n",
    ")\n",
    "\n",
    "ynew = np.roll(x_raw[:, 3], shift=-1)\n",
    "y_ = np.log(ynew / x_raw[:, 3])\n",
    "\n",
    "X_train, X_test, y_train, y_test = train_test_split(x_, y_, test_size=0.3, shuffle=False)\n",
    "\n",
    "scaler = StandardScaler()\n",
    "X_train = scaler.fit_transform(X_train)\n",
    "X_test = scaler.transform(X_test)\n",
    "\n",
    "model, history = evaluation.standard_NN_construction(X_train, y_train)\n",
    "evaluation.standard_NN_evaluation(X_train, X_test, y_train, y_test, model, history, dirpath)"
   ]
  },
  {
   "cell_type": "code",
   "execution_count": null,
   "id": "10325b65",
   "metadata": {},
   "outputs": [],
   "source": [
    "import genetic_algorithm.utility as utility\n",
    "\n",
    "utility.demo_constopt_nn()"
   ]
  }
 ],
 "metadata": {
  "kernelspec": {
   "display_name": ".venv",
   "language": "python",
   "name": "python3"
  },
  "language_info": {
   "codemirror_mode": {
    "name": "ipython",
    "version": 3
   },
   "file_extension": ".py",
   "mimetype": "text/x-python",
   "name": "python",
   "nbconvert_exporter": "python",
   "pygments_lexer": "ipython3",
   "version": "3.12.3"
  }
 },
 "nbformat": 4,
 "nbformat_minor": 5
}
