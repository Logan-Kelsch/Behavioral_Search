{
 "cells": [
  {
   "cell_type": "code",
   "execution_count": 11,
   "id": "1f7dcf10",
   "metadata": {},
   "outputs": [
    {
     "name": "stdout",
     "output_type": "stream",
     "text": [
      "Min pops = 19\n",
      "  1: pop 1  → stacks [0, 4, 8]\n",
      "  2: pop 2  → stacks [0, 2, 7]\n",
      "  3: pop 2  → stacks [2]\n",
      "  4: pop 4  → stacks [6]\n",
      "  5: pop 5  → stacks [1, 7]\n",
      "  6: pop 6  → stacks [8]\n",
      "  7: pop 7  → stacks [3]\n",
      "  8: pop 8  → stacks [3, 7, 8]\n",
      "  9: pop 3  → stacks [0, 2, 4, 8, 9]\n",
      " 10: pop 5  → stacks [0, 4, 7]\n",
      " 11: pop 7  → stacks [3]\n",
      " 12: pop 8  → stacks [3]\n",
      " 13: pop 9  → stacks [5, 8]\n",
      " 14: pop 1  → stacks [5, 9]\n",
      " 15: pop 4  → stacks [1, 6, 9]\n",
      " 16: pop 3  → stacks [1, 4, 9]\n",
      " 17: pop 2  → stacks [1, 2, 5, 7]\n",
      " 18: pop 1  → stacks [1, 4, 7]\n",
      " 19: pop 7  → stacks [3, 7]\n",
      "<generator object <genexpr> at 0x7613b3e2ca00>\n"
     ]
    }
   ],
   "source": [
    "from functools import lru_cache\n",
    "from typing import List, Any, Tuple\n",
    "\n",
    "def shortest_common_supersequence(\n",
    "    seqs: List[List[Any]]\n",
    ") -> Tuple[List[Any], List[List[int]]]:\n",
    "    \"\"\"\n",
    "    Returns (scs, idx_lists) where\n",
    "      - scs is a shortest common supersequence of the input `seqs`\n",
    "      - idx_lists[i] is the list of sequence-indices that contributed\n",
    "        the element scs[i] (i.e. were advanced) at that position.\n",
    "    \"\"\"\n",
    "    k = len(seqs)\n",
    "    lengths = tuple(len(s) for s in seqs)\n",
    "\n",
    "    @lru_cache(None)\n",
    "    def dp(pos: Tuple[int, ...]) -> Tuple[Tuple[Any, ...], Tuple[Tuple[int, ...], ...]]:\n",
    "        # If all sequences are fully consumed, no more symbols or indices\n",
    "        if pos == lengths:\n",
    "            return (), ()\n",
    "\n",
    "        # all next‐possible symbols\n",
    "        candidates = {\n",
    "            seqs[i][pos[i]]\n",
    "            for i in range(k)\n",
    "            if pos[i] < lengths[i]\n",
    "        }\n",
    "\n",
    "        best_seq: Tuple[Any, ...] = ()\n",
    "        best_idxs: Tuple[Tuple[int, ...], ...] = ()\n",
    "        first = True\n",
    "\n",
    "        for e in candidates:\n",
    "            # compute how far we advance in each sequence if we pick e\n",
    "            new_pos = list(pos)\n",
    "            advanced = []\n",
    "            for i in range(k):\n",
    "                if new_pos[i] < lengths[i] and seqs[i][new_pos[i]] == e:\n",
    "                    new_pos[i] += 1\n",
    "                    advanced.append(i)\n",
    "            new_pos = tuple(new_pos)\n",
    "\n",
    "            # recurse\n",
    "            suffix_seq, suffix_idxs = dp(new_pos)\n",
    "\n",
    "            cand_seq = (e,)+suffix_seq\n",
    "            cand_idxs = (tuple(advanced),)+suffix_idxs\n",
    "\n",
    "            if first or len(cand_seq) < len(best_seq):\n",
    "                best_seq, best_idxs = cand_seq, cand_idxs\n",
    "                first = False\n",
    "\n",
    "        return best_seq, best_idxs\n",
    "\n",
    "    scs_tuple, idxs_tuple = dp(tuple([0]*k))\n",
    "    # convert to lists\n",
    "    scs = list(scs_tuple)\n",
    "    idx_lists = [list(tup) for tup in idxs_tuple]\n",
    "    return scs, idx_lists\n",
    "\n",
    "\n",
    "\n",
    "\n",
    "\n",
    "if __name__ == \"__main__\":\n",
    "    # 10 example stacks, each length 5\n",
    "    stacks = [\n",
    "        [1, 2, 3, 5],\n",
    "        [5, 4, 3, 2, 1],\n",
    "        [2, 2, 3, 2],\n",
    "        [7, 8, 7, 8, 7],\n",
    "        [1, 3, 5, 3, 1],\n",
    "        [9, 1, 2],\n",
    "        [4, 4],\n",
    "        [2, 5, 8, 5, 2, 1, 7],\n",
    "        [1, 6, 8, 3, 9],\n",
    "        [3, 1, 4, 3],\n",
    "    ]\n",
    "\n",
    "    seq, ann = shortest_common_supersequence(stacks)\n",
    "    print(f\"Min pops = {len(seq)}\")\n",
    "    \n",
    "    for step, (d, pops) in enumerate(zip(seq, ann), 1):\n",
    "        print(f\"{step:3d}: pop {d}  → stacks {pops}\")\n",
    "        \n",
    "    print(i for i in zip(seq, ann))\n"
   ]
  },
  {
   "cell_type": "code",
   "execution_count": 6,
   "id": "7b2c7b90",
   "metadata": {},
   "outputs": [],
   "source": [
    "import numpy as np\n",
    "import pandas as pd\n",
    "import genetic_algorithm.population as population\n",
    "\n",
    "pop = population.generate_random_forest(5)"
   ]
  },
  {
   "cell_type": "code",
   "execution_count": 7,
   "id": "21d057a5",
   "metadata": {},
   "outputs": [],
   "source": [
    "import genetic_algorithm.transforms as transforms\n",
    "data = pd.read_csv(\"../data/ES15.csv\")\n",
    "x_raw = data.values"
   ]
  },
  {
   "cell_type": "code",
   "execution_count": 8,
   "id": "44d6a0b3",
   "metadata": {},
   "outputs": [],
   "source": [
    "x_gen = transforms.forest2features(\n",
    "    population=pop,\n",
    "    x_raw=x_raw\n",
    ")"
   ]
  },
  {
   "cell_type": "code",
   "execution_count": 9,
   "id": "efe19d93",
   "metadata": {},
   "outputs": [
    {
     "name": "stdout",
     "output_type": "stream",
     "text": [
      "0    float64\n",
      "1    float64\n",
      "2    float64\n",
      "3    float64\n",
      "4    float64\n",
      "dtype: object\n"
     ]
    },
    {
     "data": {
      "image/png": "[encoded data removed]",
      "text/plain": [
       "<Figure size 640x480 with 6 Axes>"
      ]
     },
     "metadata": {},
     "output_type": "display_data"
    }
   ],
   "source": [
    "import matplotlib.pyplot as plt\n",
    "x = pd.DataFrame(x_gen)\n",
    "print(x.dtypes)\n",
    "x.hist(bins=30)\n",
    "plt.tight_layout()\n",
    "plt.show()"
   ]
  }
 ],
 "metadata": {
  "kernelspec": {
   "display_name": ".venv",
   "language": "python",
   "name": "python3"
  },
  "language_info": {
   "codemirror_mode": {
    "name": "ipython",
    "version": 3
   },
   "file_extension": ".py",
   "mimetype": "text/x-python",
   "name": "python",
   "nbconvert_exporter": "python",
   "pygments_lexer": "ipython3",
   "version": "3.12.3"
  }
 },
 "nbformat": 4,
 "nbformat_minor": 5
}
