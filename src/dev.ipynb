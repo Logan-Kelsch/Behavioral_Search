{
 "cells": [
  {
   "cell_type": "code",
   "execution_count": null,
   "id": "7b2c7b90",
   "metadata": {},
   "outputs": [],
   "source": [
    "import numpy as np\n",
    "import pandas as pd\n",
    "import genetic_algorithm.population as population\n",
    "\n",
    "pop = population.generate_random_forest(50, 7)"
   ]
  },
  {
   "cell_type": "code",
   "execution_count": null,
   "id": "21d057a5",
   "metadata": {},
   "outputs": [],
   "source": [
    "import genetic_algorithm.transforms as transforms\n",
    "data = pd.read_csv(\"../data/ES15.csv\")\n",
    "x_raw = data.values"
   ]
  },
  {
   "cell_type": "code",
   "execution_count": null,
   "id": "44d6a0b3",
   "metadata": {},
   "outputs": [],
   "source": [
    "x_gen = transforms.forest2features(\n",
    "    population=pop,\n",
    "    x_raw=x_raw\n",
    ")"
   ]
  },
  {
   "cell_type": "code",
   "execution_count": null,
   "id": "efe19d93",
   "metadata": {},
   "outputs": [],
   "source": [
    "import genetic_algorithm.visualization as visualization\n",
    "\n",
    "# assume x_gen is your data array of shape (n_samples, n_features)\n",
    "x = pd.DataFrame(x_gen)\n",
    "\n",
    "\n",
    "visualization.visualize_all_distributions(x=x)"
   ]
  },
  {
   "cell_type": "code",
   "execution_count": null,
   "id": "bf37fa27",
   "metadata": {},
   "outputs": [],
   "source": [
    "import genetic_algorithm.evaluation as evaluation\n",
    "\n",
    "scoresdf, bestlist = evaluation.evaluate_forest(x_gen, x_raw[:, 3], n_bins=300,lag_range=(2,4))\n",
    "\n",
    "\n",
    "print(scoresdf)\n",
    "print(bestlist)"
   ]
  },
  {
   "cell_type": "code",
   "execution_count": null,
   "id": "47752d37",
   "metadata": {},
   "outputs": [],
   "source": [
    "oplist = transforms.get_oplist(pop[bestlist[0]])\n",
    "print(oplist)\n",
    "img = visualization.visualize_tree(pop[bestlist[0]])"
   ]
  },
  {
   "cell_type": "code",
   "execution_count": null,
   "id": "606b91a8",
   "metadata": {},
   "outputs": [],
   "source": [
    "img"
   ]
  },
  {
   "cell_type": "code",
   "execution_count": null,
   "id": "3a9f5fa8",
   "metadata": {},
   "outputs": [],
   "source": [
    "import genetic_algorithm.population as population\n",
    "import genetic_algorithm.mutation as mutation\n",
    "import genetic_algorithm.transforms as transforms\n",
    "import pandas as pd\n",
    "data = pd.read_csv(\"../data/ES15.csv\")\n",
    "x_raw = data.values\n",
    "\n",
    "pop2 = population.generate_random_forest(100, 3)\n",
    "mutation.quarter_forest_evolution(\n",
    "    pop2,\n",
    "    x_raw,\n",
    "    iterations=4\n",
    ")"
   ]
  }
 ],
 "metadata": {
  "kernelspec": {
   "display_name": ".venv",
   "language": "python",
   "name": "python3"
  },
  "language_info": {
   "codemirror_mode": {
    "name": "ipython",
    "version": 3
   },
   "file_extension": ".py",
   "mimetype": "text/x-python",
   "name": "python",
   "nbconvert_exporter": "python",
   "pygments_lexer": "ipython3",
   "version": "3.12.3"
  }
 },
 "nbformat": 4,
 "nbformat_minor": 5
}
