{
 "cells": [
  {
   "cell_type": "code",
   "execution_count": null,
   "id": "7b2c7b90",
   "metadata": {},
   "outputs": [],
   "source": [
    "import numpy as np\n",
    "import pandas as pd\n",
    "import genetic_algorithm.population as population\n",
    "\n",
    "pop = population.generate_random_forest(50, 5)"
   ]
  },
  {
   "cell_type": "code",
   "execution_count": null,
   "id": "21d057a5",
   "metadata": {},
   "outputs": [],
   "source": [
    "import genetic_algorithm.transforms as transforms\n",
    "data = pd.read_csv(\"../data/ES15.csv\")\n",
    "x_raw = data.values\n",
    "\n",
    "transforms.get_oplist(pop[3])"
   ]
  },
  {
   "cell_type": "code",
   "execution_count": null,
   "id": "44d6a0b3",
   "metadata": {},
   "outputs": [],
   "source": [
    "x_gen = transforms.forest2features(\n",
    "    population=pop,\n",
    "    x_raw=x_raw\n",
    ")"
   ]
  },
  {
   "cell_type": "code",
   "execution_count": null,
   "id": "efe19d93",
   "metadata": {},
   "outputs": [],
   "source": [
    "import genetic_algorithm.visualization as visualization\n",
    "\n",
    "# assume x_gen is your data array of shape (n_samples, n_features)\n",
    "x = pd.DataFrame(x_gen)\n",
    "\n",
    "\n",
    "visualization.visualize_all_distributions(x=x)"
   ]
  },
  {
   "cell_type": "code",
   "execution_count": null,
   "id": "bf37fa27",
   "metadata": {},
   "outputs": [],
   "source": [
    "import genetic_algorithm.evaluation as evaluation\n",
    "\n",
    "scoresdf, bestlist, scorelist = \\\n",
    "    evaluation.evaluate_forest(x_gen, x_raw[:, 3], n_bins=300,lag_range=(2,4))\n",
    "\n",
    "\n",
    "print(scoresdf)\n",
    "print(bestlist)"
   ]
  },
  {
   "cell_type": "code",
   "execution_count": null,
   "id": "47752d37",
   "metadata": {},
   "outputs": [],
   "source": [
    "oplist = transforms.get_oplist(pop[bestlist[0]])\n",
    "print(oplist)\n",
    "img = visualization.visualize_tree(pop[bestlist[0]])"
   ]
  },
  {
   "cell_type": "code",
   "execution_count": null,
   "id": "606b91a8",
   "metadata": {},
   "outputs": [],
   "source": [
    "img"
   ]
  },
  {
   "cell_type": "code",
   "execution_count": null,
   "id": "d41c4ce5",
   "metadata": {},
   "outputs": [],
   "source": [
    "import genetic_algorithm.population as population\n",
    "import genetic_algorithm.mutation as mutation\n",
    "import genetic_algorithm.transforms as transforms\n",
    "import genetic_algorithm.optimize as optimize\n",
    "import pandas as pd\n",
    "import numpy as np\n",
    "data = pd.read_csv(\"../data/ES15.csv\")\n",
    "x_raw = data.values\n",
    "\n",
    "pop = population.generate_random_forest(50, 3)\n",
    "\n",
    "np.seterr(all='ignore')\n",
    "best_forest, best_scores, best_overtime = optimize.optimize_constants(\n",
    "    pop, x_raw, sthresh_q=.25\n",
    ")"
   ]
  },
  {
   "cell_type": "code",
   "execution_count": null,
   "id": "92af4d76",
   "metadata": {},
   "outputs": [],
   "source": [
    "import matplotlib.pyplot as plt\n",
    "plt.scatter(range(len(best_scores)), best_scores)\n",
    "plt.show()"
   ]
  },
  {
   "cell_type": "code",
   "execution_count": null,
   "id": "c166a698",
   "metadata": {},
   "outputs": [],
   "source": [
    "best_scores[3]"
   ]
  },
  {
   "cell_type": "code",
   "execution_count": null,
   "id": "2cdc2c5e",
   "metadata": {},
   "outputs": [],
   "source": [
    "import numpy as np\n",
    "x_ = transforms.forest2features(\n",
    "    population=best_forest,\n",
    "    x_raw=x_raw\n",
    ")\n",
    "y_ = np.pad(\n",
    "    np.log(x_raw[1:, 3] / x_raw[:-1, 3]),\n",
    "    (0,1),\n",
    "    mode='constant',\n",
    "    constant_values=0.0)"
   ]
  },
  {
   "cell_type": "code",
   "execution_count": null,
   "id": "a2640ec8",
   "metadata": {},
   "outputs": [],
   "source": [
    "print(np.std(y_))"
   ]
  },
  {
   "cell_type": "code",
   "execution_count": null,
   "id": "c0b6f22a",
   "metadata": {},
   "outputs": [],
   "source": [
    "import tensorflow as tf\n",
    "from sklearn.preprocessing import StandardScaler\n",
    "from sklearn.model_selection import train_test_split\n",
    "from sklearn.metrics import mean_squared_error\n",
    "import matplotlib.pyplot as plt\n",
    "\n",
    "X_train, X_test, y_train, y_test = train_test_split(x_, y_, test_size=0.3)\n",
    "\n",
    "scaler = StandardScaler()\n",
    "X_train = scaler.fit_transform(X_train)\n",
    "X_test = scaler.transform(X_test)\n",
    "\n",
    "from keras.optimizers.schedules import ExponentialDecay\n",
    "\n",
    "reduce_lr = tf.keras.callbacks.ReduceLROnPlateau(\n",
    "    monitor='loss',\n",
    "    factor=0.95, \n",
    "    patience=20, \n",
    "    min_lr=1e-6\n",
    ")\n",
    "\n",
    "opt  = tf.keras.optimizers.Adam(learning_rate=0.02)\n",
    "opt2 = tf.keras.optimizers.SGD(learning_rate=0.02)\n",
    "\n",
    "def build_model():\n",
    "    model = tf.keras.Sequential([\n",
    "        tf.keras.layers.Input(shape=(X_train.shape[1],)),\n",
    "        tf.keras.layers.Dense(64, activation='linear'),\n",
    "        tf.keras.layers.BatchNormalization(),\n",
    "        tf.keras.layers.Dense(64, activation='linear'),  \n",
    "        tf.keras.layers.Dropout(0.3),\n",
    "        tf.keras.layers.Dense(64, activation='linear'),       \n",
    "        tf.keras.layers.Dense(1, activation='linear')  # Output layer for regression\n",
    "    ])\n",
    "    \n",
    "    rmse='root_mean_squared_error'\n",
    "\n",
    "    model.compile(optimizer=opt, loss='mse', metrics=['mae','R2Score'])\n",
    "    return model\n",
    "\n",
    "\n",
    "epochs = 2000\n",
    "\n",
    "with tf.device('/GPU:0'):\n",
    "\tmodel = build_model()\n",
    "\thistory = model.fit(X_train, y_train, epochs=epochs, batch_size=512, \\\n",
    "                     validation_split=0.2, verbose=1, shuffle=True, callbacks=[reduce_lr])\n",
    "y_pred = model.predict(X_test)\n",
    "mse = mean_squared_error(y_test, y_pred)\n",
    "print(f\"Mean Squared Error: {mse}\")\n",
    "\n",
    "# Plot training & validation loss values\n",
    "plt.figure(figsize=(12, 6))\n",
    "plt.plot(history.history['loss'])\n",
    "plt.plot(history.history['val_loss'])\n",
    "plt.title('Model Loss')\n",
    "plt.xlabel('Epoch')\n",
    "plt.ylabel('Loss')\n",
    "plt.legend(['Train', 'Validation'], loc='upper right')\n",
    "plt.show()\n",
    "\n",
    "plt.scatter(y_pred, y_test, s=1)\n",
    "plt.grid()\n",
    "plt.axis('tight')\n",
    "plt.title('Testing Outputs')\n",
    "plt.xlabel('y_pred')\n",
    "plt.xlim(-0.015,0.015)\n",
    "plt.ylim(-0.015,0.015)\n",
    "plt.ylabel('y_test')\n",
    "ax = plt.gca()\n",
    "x_vals = np.array(ax.get_xlim())\n",
    "y_vals = x_vals  # Since y = x\n",
    "plt.plot(x_vals, y_vals, '-', color='black', label='y = x', linewidth=0.5)\n",
    "plt.axhline(0, color='black', linewidth=0.5)\n",
    "plt.axvline(0,color='black',linewidth=0.5)\n",
    "plt.show()"
   ]
  },
  {
   "cell_type": "code",
   "execution_count": null,
   "id": "f70f3662",
   "metadata": {},
   "outputs": [],
   "source": [
    "tp, fp, tn, fn = 0, 0, 0, 0\n",
    "tp5, fp5, tn5, fn5 = 0, 0, 0, 0\n",
    "for i in range(len(y_pred)):\n",
    "    if(y_pred[i]>0):\n",
    "        if(y_test[i]>0):\n",
    "            tp+=1\n",
    "        if(y_test[i]<0):\n",
    "            fp+=1\n",
    "        if(y_pred[i]>=5):\n",
    "            if(y_test[i]>0):\n",
    "                tp5+=1\n",
    "            if(y_test[i]<0):\n",
    "                fp5+=1\n",
    "    if(y_pred[i]<0):\n",
    "        if(y_test[i]<0):\n",
    "            tn+=1\n",
    "        if(y_test[i]>0):\n",
    "            fn+=1\n",
    "        if(y_pred[i]<=-5):\n",
    "            if(y_test[i]<0):\n",
    "                tn5+=1\n",
    "            if(y_test[i]>0):\n",
    "                fn5+=1\n",
    "directionalAccuracy = ((tp+tn)/(tp+fp+tn+fn))*10000//1/100\n",
    "print('Directional Accuracy:\\t\\t',directionalAccuracy)"
   ]
  },
  {
   "cell_type": "code",
   "execution_count": null,
   "id": "65cfc086",
   "metadata": {},
   "outputs": [],
   "source": []
  }
 ],
 "metadata": {
  "kernelspec": {
   "display_name": ".venv",
   "language": "python",
   "name": "python3"
  },
  "language_info": {
   "codemirror_mode": {
    "name": "ipython",
    "version": 3
   },
   "file_extension": ".py",
   "mimetype": "text/x-python",
   "name": "python",
   "nbconvert_exporter": "python",
   "pygments_lexer": "ipython3",
   "version": "3.12.3"
  }
 },
 "nbformat": 4,
 "nbformat_minor": 5
}
