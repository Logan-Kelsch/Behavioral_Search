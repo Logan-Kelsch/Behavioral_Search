{
 "cells": [
  {
   "cell_type": "code",
   "execution_count": null,
   "id": "d41c4ce5",
   "metadata": {},
   "outputs": [],
   "source": [
    "import genetic_algorithm.transforms as transforms\n",
    "import genetic_algorithm.population as population\n",
    "import genetic_algorithm.optimize as optimize\n",
    "import genetic_algorithm.utility as utility\n",
    "import pandas as pd\n",
    "import numpy as np\n",
    "import genetic_algorithm.visualization as visualization\n",
    "from sklearn.preprocessing import StandardScaler\n",
    "from sklearn.model_selection import train_test_split\n",
    "import genetic_algorithm.evaluation as evaluation\n",
    "\n",
    "\n",
    "data = pd.read_csv(\"../data/ES15.csv\")\n",
    "x_raw_presplit = data.values\n",
    "\n",
    "x_raw, x_ind = train_test_split(x_raw_presplit, test_size=0.1, shuffle=False)\n",
    "\n",
    "dirpath = utility.fetch_new_run_dirpath()\n",
    "\n",
    "\n",
    "\n",
    "pop = population.generate_random_forest(250, 12)\n",
    "\n",
    "np.seterr(all='ignore')\n",
    "best_forest, best_scores, best_overtime = optimize.optimize_constants(\n",
    "    pop, x_raw, sthresh_q=.1, run_dir=dirpath\n",
    ")\n",
    "\n",
    "img = visualization.visualize_tree(best_forest[best_scores.index(min(best_scores))], run_dir=dirpath)\n",
    "newforest , newscores = population.extract_n_best_trees(best_forest, best_scores, -1, run_dir=dirpath)\n",
    "\n",
    "\n",
    "\n",
    "x_ = transforms.forest2features(\n",
    "    population=newforest,\n",
    "    x_raw=x_raw\n",
    ")\n",
    "\n",
    "xind_ = transforms.forest2features(\n",
    "    population=newforest,\n",
    "    x_raw=x_ind\n",
    ")\n",
    "\n",
    "ynew = np.roll(x_raw[:, 3], shift=-1)\n",
    "y_ = np.log(ynew / x_raw[:, 3])\n",
    "\n",
    "ynew_ind = np.roll(x_ind[:, 3], shift=-1)\n",
    "yind_ = np.log(ynew_ind / x_ind[:, 3])\n",
    "\n",
    "X_train, X_test, y_train, y_test = train_test_split(x_, y_, test_size=0.3, shuffle=False)\n",
    "\n",
    "scaler = StandardScaler()\n",
    "X_train = scaler.fit_transform(X_train)\n",
    "X_test = scaler.transform(X_test)\n",
    "xind_ = scaler.transform(xind_)\n",
    "\n",
    "model, history = evaluation.standard_NN_construction(X_train, y_train)\n",
    "evaluation.standard_NN_evaluation(X_train, X_test, y_train, y_test, model, history, dirpath)\n",
    "evaluation.standard_NN_evaluation(X_train, xind_, y_train, yind_, model, history, dirpath)"
   ]
  },
  {
   "cell_type": "code",
   "execution_count": null,
   "id": "10325b65",
   "metadata": {},
   "outputs": [],
   "source": [
    "import genetic_algorithm.utility as utility\n",
    "\n",
    "best_forest, best_scores = utility.demo_constopt_nn()"
   ]
  },
  {
   "cell_type": "code",
   "execution_count": null,
   "id": "fbee7720",
   "metadata": {},
   "outputs": [],
   "source": [
    "import genetic_algorithm.reproduction as reproduction\n",
    "\n",
    "best_forest = reproduction.reproduce(best_forest, best_scores, (0,1,0,0))"
   ]
  },
  {
   "cell_type": "code",
   "execution_count": null,
   "id": "5b85c57d",
   "metadata": {},
   "outputs": [],
   "source": [
    "best_forest, best_scores = utility.demo_constopt_nn(best_forest)"
   ]
  },
  {
   "cell_type": "code",
   "execution_count": null,
   "id": "1c4a9021",
   "metadata": {},
   "outputs": [],
   "source": [
    "best_forest = reproduction.reproduce(best_forest, best_scores, (0,1,0,0))\n"
   ]
  },
  {
   "cell_type": "code",
   "execution_count": null,
   "id": "5c2c1408",
   "metadata": {},
   "outputs": [],
   "source": [
    "best_forest, best_scores = utility.demo_constopt_nn(best_forest)"
   ]
  },
  {
   "cell_type": "code",
   "execution_count": null,
   "id": "c7597186",
   "metadata": {},
   "outputs": [],
   "source": [
    "import genetic_algorithm.transforms as transforms\n",
    "import genetic_algorithm.population as population\n",
    "import genetic_algorithm.optimize as optimize\n",
    "import genetic_algorithm.utility as utility\n",
    "import pandas as pd\n",
    "import numpy as np\n",
    "import genetic_algorithm.visualization as visualization\n",
    "from sklearn.preprocessing import StandardScaler\n",
    "from sklearn.model_selection import train_test_split\n",
    "import genetic_algorithm.evaluation as evaluation\n",
    "\n",
    "\n",
    "data = pd.read_csv(\"../data/ES15.csv\")\n",
    "x_raw = data.values\n",
    "\n",
    "\n",
    "dirpath = utility.fetch_new_run_dirpath()\n",
    "\n",
    "np.seterr(invalid='raise',divide='raise')\n",
    "\n",
    "pop = population.generate_random_forest(250, 8)\n",
    "\n",
    "\n",
    "best_forest, best_scores, best_overtime = optimize.optimize_constants(\n",
    "    pop, x_raw, sthresh_q=.1, run_dir=dirpath\n",
    ")"
   ]
  },
  {
   "cell_type": "code",
   "execution_count": null,
   "id": "e9bf6134",
   "metadata": {},
   "outputs": [],
   "source": [
    "print([i for i in best_scores])"
   ]
  },
  {
   "cell_type": "code",
   "execution_count": null,
   "id": "7184e155",
   "metadata": {},
   "outputs": [],
   "source": [
    "import genetic_algorithm.optimize as optimize\n",
    "\n",
    "x, loss, path, scores = optimize.optimize_reproduction(\n",
    "    20, 3, iterations=20, init_x=(0.5, 0.25), dcay_mode='performance',step_mode='good'\n",
    ")"
   ]
  },
  {
   "cell_type": "code",
   "execution_count": null,
   "id": "5ccbde1a",
   "metadata": {},
   "outputs": [],
   "source": [
    "import genetic_algorithm.visualization as visualization\n",
    "\n",
    "visualization.visualize_opt_path(path, scores)"
   ]
  },
  {
   "cell_type": "code",
   "execution_count": 1,
   "id": "f2748257",
   "metadata": {},
   "outputs": [
    {
     "name": "stdout",
     "output_type": "stream",
     "text": [
      "/home/logankelsch/Behavioral_Search/.venv/bin/python\n"
     ]
    }
   ],
   "source": [
    "!which python"
   ]
  }
 ],
 "metadata": {
  "kernelspec": {
   "display_name": ".venv",
   "language": "python",
   "name": "python3"
  },
  "language_info": {
   "codemirror_mode": {
    "name": "ipython",
    "version": 3
   },
   "file_extension": ".py",
   "mimetype": "text/x-python",
   "name": "python",
   "nbconvert_exporter": "python",
   "pygments_lexer": "ipython3",
   "version": "3.12.3"
  }
 },
 "nbformat": 4,
 "nbformat_minor": 5
}
