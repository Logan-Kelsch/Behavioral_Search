{
 "cells": [
  {
   "cell_type": "code",
   "execution_count": null,
   "id": "d41c4ce5",
   "metadata": {},
   "outputs": [],
   "source": [
    "import genetic_algorithm.transforms as transforms\n",
    "import genetic_algorithm.population as population\n",
    "import genetic_algorithm.optimize as optimize\n",
    "import genetic_algorithm.utility as utility\n",
    "import pandas as pd\n",
    "import numpy as np\n",
    "import genetic_algorithm.visualization as visualization\n",
    "from sklearn.preprocessing import StandardScaler\n",
    "from sklearn.model_selection import train_test_split\n",
    "import genetic_algorithm.evaluation as evaluation\n",
    "\n",
    "\n",
    "data = pd.read_csv(\"../data/ES15.csv\")\n",
    "x_raw_presplit = data.values\n",
    "\n",
    "x_raw, x_ind = train_test_split(x_raw_presplit, test_size=0.1, shuffle=False)\n",
    "\n",
    "dirpath = utility.fetch_new_run_dirpath()\n",
    "\n",
    "\n",
    "\n",
    "pop = population.generate_random_forest(250, 12)\n",
    "\n",
    "np.seterr(all='ignore')\n",
    "best_forest, best_scores, best_overtime = optimize.optimize_constants(\n",
    "    pop, x_raw, sthresh_q=.1, run_dir=dirpath\n",
    ")\n",
    "\n",
    "img = visualization.visualize_tree(best_forest[best_scores.index(min(best_scores))], run_dir=dirpath)\n",
    "newforest , newscores = population.extract_n_best_trees(best_forest, best_scores, -1, run_dir=dirpath)\n",
    "\n",
    "\n",
    "\n",
    "x_ = transforms.forest2features(\n",
    "    population=newforest,\n",
    "    x_raw=x_raw\n",
    ")\n",
    "\n",
    "xind_ = transforms.forest2features(\n",
    "    population=newforest,\n",
    "    x_raw=x_ind\n",
    ")\n",
    "\n",
    "ynew = np.roll(x_raw[:, 3], shift=-1)\n",
    "y_ = np.log(ynew / x_raw[:, 3])\n",
    "\n",
    "ynew_ind = np.roll(x_ind[:, 3], shift=-1)\n",
    "yind_ = np.log(ynew_ind / x_ind[:, 3])\n",
    "\n",
    "X_train, X_test, y_train, y_test = train_test_split(x_, y_, test_size=0.3, shuffle=False)\n",
    "\n",
    "scaler = StandardScaler()\n",
    "X_train = scaler.fit_transform(X_train)\n",
    "X_test = scaler.transform(X_test)\n",
    "xind_ = scaler.transform(xind_)\n",
    "\n",
    "model, history = evaluation.standard_NN_construction(X_train, y_train)\n",
    "evaluation.standard_NN_evaluation(X_train, X_test, y_train, y_test, model, history, dirpath)\n",
    "evaluation.standard_NN_evaluation(X_train, xind_, y_train, yind_, model, history, dirpath)"
   ]
  },
  {
   "cell_type": "code",
   "execution_count": null,
   "id": "10325b65",
   "metadata": {},
   "outputs": [],
   "source": [
    "import genetic_algorithm.utility as utility\n",
    "\n",
    "best_forest, best_scores = utility.demo_constopt_nn()"
   ]
  },
  {
   "cell_type": "code",
   "execution_count": null,
   "id": "fbee7720",
   "metadata": {},
   "outputs": [],
   "source": [
    "import genetic_algorithm.reproduction as reproduction\n",
    "\n",
    "best_forest = reproduction.reproduce(best_forest, best_scores, (0,1,0,0))"
   ]
  },
  {
   "cell_type": "code",
   "execution_count": null,
   "id": "5b85c57d",
   "metadata": {},
   "outputs": [],
   "source": [
    "best_forest, best_scores = utility.demo_constopt_nn(best_forest)"
   ]
  },
  {
   "cell_type": "code",
   "execution_count": null,
   "id": "1c4a9021",
   "metadata": {},
   "outputs": [],
   "source": [
    "best_forest = reproduction.reproduce(best_forest, best_scores, (0,1,0,0))\n"
   ]
  },
  {
   "cell_type": "code",
   "execution_count": null,
   "id": "5c2c1408",
   "metadata": {},
   "outputs": [],
   "source": [
    "best_forest, best_scores = utility.demo_constopt_nn(best_forest)"
   ]
  },
  {
   "cell_type": "code",
   "execution_count": null,
   "id": "c7597186",
   "metadata": {},
   "outputs": [],
   "source": [
    "import genetic_algorithm.transforms as transforms\n",
    "import genetic_algorithm.population as population\n",
    "import genetic_algorithm.optimize as optimize\n",
    "import genetic_algorithm.utility as utility\n",
    "import pandas as pd\n",
    "import numpy as np\n",
    "import genetic_algorithm.visualization as visualization\n",
    "from sklearn.preprocessing import StandardScaler\n",
    "from sklearn.model_selection import train_test_split\n",
    "import genetic_algorithm.evaluation as evaluation\n",
    "\n",
    "\n",
    "data = pd.read_csv(\"../data/ES15.csv\")\n",
    "x_raw = data.values\n",
    "\n",
    "\n",
    "dirpath = utility.fetch_new_run_dirpath()\n",
    "\n",
    "np.seterr(invalid='raise',divide='raise')\n",
    "\n",
    "pop = population.generate_random_forest(250, 8)\n",
    "\n",
    "\n",
    "best_forest, best_scores, best_overtime = optimize.optimize_constants(\n",
    "    pop, x_raw, sthresh_q=.1, run_dir=dirpath\n",
    ")"
   ]
  },
  {
   "cell_type": "code",
   "execution_count": null,
   "id": "e9bf6134",
   "metadata": {},
   "outputs": [],
   "source": [
    "print([i for i in best_scores])"
   ]
  },
  {
   "cell_type": "code",
   "execution_count": 1,
   "id": "7184e155",
   "metadata": {},
   "outputs": [
    {
     "name": "stderr",
     "output_type": "stream",
     "text": [
      "2025-07-18 16:41:22.003530: I tensorflow/core/util/port.cc:153] oneDNN custom operations are on. You may see slightly different numerical results due to floating-point round-off errors from different computation orders. To turn them off, set the environment variable `TF_ENABLE_ONEDNN_OPTS=0`.\n",
      "2025-07-18 16:41:22.004220: I external/local_xla/xla/tsl/cuda/cudart_stub.cc:32] Could not find cuda drivers on your machine, GPU will not be used.\n",
      "2025-07-18 16:41:22.007232: I external/local_xla/xla/tsl/cuda/cudart_stub.cc:32] Could not find cuda drivers on your machine, GPU will not be used.\n",
      "2025-07-18 16:41:22.014448: E external/local_xla/xla/stream_executor/cuda/cuda_fft.cc:467] Unable to register cuFFT factory: Attempting to register factory for plugin cuFFT when one has already been registered\n",
      "WARNING: All log messages before absl::InitializeLog() is called are written to STDERR\n",
      "E0000 00:00:1752871282.026041  219396 cuda_dnn.cc:8579] Unable to register cuDNN factory: Attempting to register factory for plugin cuDNN when one has already been registered\n",
      "E0000 00:00:1752871282.029319  219396 cuda_blas.cc:1407] Unable to register cuBLAS factory: Attempting to register factory for plugin cuBLAS when one has already been registered\n",
      "W0000 00:00:1752871282.039297  219396 computation_placer.cc:177] computation placer already registered. Please check linkage and avoid linking the same target more than once.\n",
      "W0000 00:00:1752871282.039331  219396 computation_placer.cc:177] computation placer already registered. Please check linkage and avoid linking the same target more than once.\n",
      "W0000 00:00:1752871282.039332  219396 computation_placer.cc:177] computation placer already registered. Please check linkage and avoid linking the same target more than once.\n",
      "W0000 00:00:1752871282.039334  219396 computation_placer.cc:177] computation placer already registered. Please check linkage and avoid linking the same target more than once.\n",
      "2025-07-18 16:41:22.043092: I tensorflow/core/platform/cpu_feature_guard.cc:210] This TensorFlow binary is optimized to use available CPU instructions in performance-critical operations.\n",
      "To enable the following instructions: AVX2 AVX_VNNI FMA, in other operations, rebuild TensorFlow with the appropriate compiler flags.\n"
     ]
    },
    {
     "name": "stdout",
     "output_type": "stream",
     "text": [
      "Expected to die: 21 @ Iteration #1\n",
      "Expected to die: 21 @ Iteration #2\n",
      "Expected to die: 21 @ Iteration #3\n",
      "Expected to die: 21 @ Iteration #1\n",
      "Expected to die: 22 @ Iteration #2\n",
      "Expected to die: 22 @ Iteration #3\n"
     ]
    },
    {
     "name": "stderr",
     "output_type": "stream",
     "text": [
      "E0000 00:00:1752871300.715637  219396 cuda_executor.cc:1228] INTERNAL: CUDA Runtime error: Failed call to cudaGetRuntimeVersion: Error loading CUDA libraries. GPU will not be used.: Error loading CUDA libraries. GPU will not be used.\n",
      "W0000 00:00:1752871300.717468  219396 gpu_device.cc:2341] Cannot dlopen some GPU libraries. Please make sure the missing libraries mentioned above are installed properly if you would like to use GPU. Follow the guide at https://www.tensorflow.org/install/gpu for how to download and setup the required libraries for your platform.\n",
      "Skipping registering GPU devices...\n"
     ]
    },
    {
     "name": "stdout",
     "output_type": "stream",
     "text": [
      "\u001b[1m787/787\u001b[0m \u001b[32m━━━━━━━━━━━━━━━━━━━━\u001b[0m\u001b[37m\u001b[0m \u001b[1m1s\u001b[0m 587us/step\n",
      "\u001b[1m1836/1836\u001b[0m \u001b[32m━━━━━━━━━━━━━━━━━━━━\u001b[0m\u001b[37m\u001b[0m \u001b[1m1s\u001b[0m 530us/step\n",
      "init: [0.5  0.25], 1.0\n",
      "iter: 0\n",
      "Expected to die: 21 @ Iteration #1\n",
      "Expected to die: 22 @ Iteration #2\n",
      "Expected to die: 21 @ Iteration #3\n",
      "\u001b[1m787/787\u001b[0m \u001b[32m━━━━━━━━━━━━━━━━━━━━\u001b[0m\u001b[37m\u001b[0m \u001b[1m1s\u001b[0m 600us/step\n",
      "\u001b[1m1836/1836\u001b[0m \u001b[32m━━━━━━━━━━━━━━━━━━━━\u001b[0m\u001b[37m\u001b[0m \u001b[1m1s\u001b[0m 547us/step\n",
      "cndt: [0.46490872 0.15635919], 0.7505661030844174\n",
      "best: [0.46490872 0.15635919], 0.7505661030844174\n",
      "iter: 1\n",
      "Expected to die: 21 @ Iteration #1\n",
      "Expected to die: 21 @ Iteration #2\n",
      "Expected to die: 21 @ Iteration #3\n",
      "\u001b[1m787/787\u001b[0m \u001b[32m━━━━━━━━━━━━━━━━━━━━\u001b[0m\u001b[37m\u001b[0m \u001b[1m1s\u001b[0m 581us/step\n",
      "\u001b[1m1836/1836\u001b[0m \u001b[32m━━━━━━━━━━━━━━━━━━━━\u001b[0m\u001b[37m\u001b[0m \u001b[1m1s\u001b[0m 535us/step\n",
      "cndt: [0.55433923 0.14625063], 0.846488330632012\n",
      "best: [0.46490872 0.15635919], 0.7505661030844174\n",
      "iter: 2\n",
      "Expected to die: 21 @ Iteration #1\n",
      "Expected to die: 21 @ Iteration #2\n",
      "Expected to die: 21 @ Iteration #3\n",
      "\u001b[1m787/787\u001b[0m \u001b[32m━━━━━━━━━━━━━━━━━━━━\u001b[0m\u001b[37m\u001b[0m \u001b[1m1s\u001b[0m 604us/step\n",
      "\u001b[1m1836/1836\u001b[0m \u001b[32m━━━━━━━━━━━━━━━━━━━━\u001b[0m\u001b[37m\u001b[0m \u001b[1m1s\u001b[0m 552us/step\n",
      "cndt: [0.54319216 0.1771607 ], 0.9992122199105355\n",
      "best: [0.46490872 0.15635919], 0.7505661030844174\n",
      "iter: 3\n",
      "Expected to die: 22 @ Iteration #1\n",
      "Expected to die: 22 @ Iteration #2\n",
      "Expected to die: 22 @ Iteration #3\n",
      "\u001b[1m787/787\u001b[0m \u001b[32m━━━━━━━━━━━━━━━━━━━━\u001b[0m\u001b[37m\u001b[0m \u001b[1m0s\u001b[0m 577us/step\n",
      "\u001b[1m1836/1836\u001b[0m \u001b[32m━━━━━━━━━━━━━━━━━━━━\u001b[0m\u001b[37m\u001b[0m \u001b[1m1s\u001b[0m 543us/step\n",
      "cndt: [0.50429175 0.09501274], 0.9757940644055445\n",
      "best: [0.46490872 0.15635919], 0.7505661030844174\n",
      "iter: 4\n",
      "Expected to die: 21 @ Iteration #1\n",
      "Expected to die: 21 @ Iteration #2\n",
      "Expected to die: 21 @ Iteration #3\n",
      "\u001b[1m787/787\u001b[0m \u001b[32m━━━━━━━━━━━━━━━━━━━━\u001b[0m\u001b[37m\u001b[0m \u001b[1m1s\u001b[0m 643us/step\n",
      "\u001b[1m1836/1836\u001b[0m \u001b[32m━━━━━━━━━━━━━━━━━━━━\u001b[0m\u001b[37m\u001b[0m \u001b[1m1s\u001b[0m 540us/step\n",
      "cndt: [0.47097815 0.22168785], 0.955427011475311\n",
      "best: [0.46490872 0.15635919], 0.7505661030844174\n",
      "iter: 5\n",
      "Expected to die: 21 @ Iteration #1\n",
      "Expected to die: 21 @ Iteration #2\n",
      "Expected to die: 22 @ Iteration #3\n",
      "\u001b[1m787/787\u001b[0m \u001b[32m━━━━━━━━━━━━━━━━━━━━\u001b[0m\u001b[37m\u001b[0m \u001b[1m1s\u001b[0m 606us/step\n",
      "\u001b[1m1836/1836\u001b[0m \u001b[32m━━━━━━━━━━━━━━━━━━━━\u001b[0m\u001b[37m\u001b[0m \u001b[1m1s\u001b[0m 545us/step\n",
      "cndt: [0.43681089 0.20829469], 0.6944856619884483\n",
      "best: [0.43681089 0.20829469], 0.6944856619884483\n",
      "iter: 6\n",
      "Expected to die: 20 @ Iteration #1\n",
      "Expected to die: 21 @ Iteration #2\n",
      "Expected to die: 21 @ Iteration #3\n",
      "\u001b[1m787/787\u001b[0m \u001b[32m━━━━━━━━━━━━━━━━━━━━\u001b[0m\u001b[37m\u001b[0m \u001b[1m1s\u001b[0m 619us/step\n",
      "\u001b[1m1836/1836\u001b[0m \u001b[32m━━━━━━━━━━━━━━━━━━━━\u001b[0m\u001b[37m\u001b[0m \u001b[1m1s\u001b[0m 541us/step\n",
      "cndt: [0.48665706 0.22672441], 0.941722446947636\n",
      "best: [0.43681089 0.20829469], 0.6944856619884483\n",
      "iter: 7\n",
      "Expected to die: 21 @ Iteration #1\n",
      "Expected to die: 21 @ Iteration #2\n",
      "Expected to die: 21 @ Iteration #3\n"
     ]
    },
    {
     "name": "stderr",
     "output_type": "stream",
     "text": [
      "/home/logankelsch/Behavioral_Search/src/genetic_algorithm/transforms.py:1474: RuntimeWarning: invalid value encountered in divide\n",
      "  np.divide(xptr[:, op_idx], x_denom[:, op_idx], out=xptr[:, op_idx])\n"
     ]
    },
    {
     "name": "stdout",
     "output_type": "stream",
     "text": [
      "\u001b[1m787/787\u001b[0m \u001b[32m━━━━━━━━━━━━━━━━━━━━\u001b[0m\u001b[37m\u001b[0m \u001b[1m1s\u001b[0m 602us/step\n",
      "\u001b[1m1836/1836\u001b[0m \u001b[32m━━━━━━━━━━━━━━━━━━━━\u001b[0m\u001b[37m\u001b[0m \u001b[1m1s\u001b[0m 548us/step\n",
      "cndt: [0.47539567 0.2365594 ], 1.0\n",
      "best: [0.43681089 0.20829469], 0.6944856619884483\n",
      "iter: 8\n",
      "Expected to die: 21 @ Iteration #1\n",
      "Expected to die: 21 @ Iteration #2\n",
      "Expected to die: 21 @ Iteration #3\n",
      "\u001b[1m787/787\u001b[0m \u001b[32m━━━━━━━━━━━━━━━━━━━━\u001b[0m\u001b[37m\u001b[0m \u001b[1m1s\u001b[0m 602us/step\n",
      "\u001b[1m1836/1836\u001b[0m \u001b[32m━━━━━━━━━━━━━━━━━━━━\u001b[0m\u001b[37m\u001b[0m \u001b[1m1s\u001b[0m 543us/step\n",
      "cndt: [0.39401219 0.212909  ], 0.9936825152736553\n",
      "best: [0.43681089 0.20829469], 0.6944856619884483\n",
      "iter: 9\n",
      "Expected to die: 21 @ Iteration #1\n",
      "Expected to die: 21 @ Iteration #2\n",
      "Expected to die: 21 @ Iteration #3\n"
     ]
    },
    {
     "name": "stderr",
     "output_type": "stream",
     "text": [
      "/home/logankelsch/Behavioral_Search/src/genetic_algorithm/transforms.py:1474: RuntimeWarning: invalid value encountered in divide\n",
      "  np.divide(xptr[:, op_idx], x_denom[:, op_idx], out=xptr[:, op_idx])\n"
     ]
    },
    {
     "name": "stdout",
     "output_type": "stream",
     "text": [
      "\u001b[1m787/787\u001b[0m \u001b[32m━━━━━━━━━━━━━━━━━━━━\u001b[0m\u001b[37m\u001b[0m \u001b[1m1s\u001b[0m 590us/step\n",
      "\u001b[1m1836/1836\u001b[0m \u001b[32m━━━━━━━━━━━━━━━━━━━━\u001b[0m\u001b[37m\u001b[0m \u001b[1m1s\u001b[0m 532us/step\n",
      "cndt: [0.3986308  0.20171992], 0.9591123589169673\n",
      "best: [0.43681089 0.20829469], 0.6944856619884483\n",
      "iter: 10\n",
      "Expected to die: 21 @ Iteration #1\n",
      "Expected to die: 21 @ Iteration #2\n",
      "Expected to die: 21 @ Iteration #3\n",
      "\u001b[1m787/787\u001b[0m \u001b[32m━━━━━━━━━━━━━━━━━━━━\u001b[0m\u001b[37m\u001b[0m \u001b[1m1s\u001b[0m 608us/step\n",
      "\u001b[1m1836/1836\u001b[0m \u001b[32m━━━━━━━━━━━━━━━━━━━━\u001b[0m\u001b[37m\u001b[0m \u001b[1m1s\u001b[0m 548us/step\n",
      "cndt: [0.40672447 0.19067157], 0.8484447984757958\n",
      "best: [0.43681089 0.20829469], 0.6944856619884483\n",
      "iter: 11\n",
      "Expected to die: 21 @ Iteration #1\n",
      "Expected to die: 21 @ Iteration #2\n",
      "Expected to die: 21 @ Iteration #3\n"
     ]
    },
    {
     "name": "stderr",
     "output_type": "stream",
     "text": [
      "/home/logankelsch/Behavioral_Search/src/genetic_algorithm/transforms.py:1474: RuntimeWarning: invalid value encountered in divide\n",
      "  np.divide(xptr[:, op_idx], x_denom[:, op_idx], out=xptr[:, op_idx])\n"
     ]
    },
    {
     "name": "stdout",
     "output_type": "stream",
     "text": [
      "\u001b[1m787/787\u001b[0m \u001b[32m━━━━━━━━━━━━━━━━━━━━\u001b[0m\u001b[37m\u001b[0m \u001b[1m1s\u001b[0m 596us/step\n",
      "\u001b[1m1836/1836\u001b[0m \u001b[32m━━━━━━━━━━━━━━━━━━━━\u001b[0m\u001b[37m\u001b[0m \u001b[1m1s\u001b[0m 539us/step\n",
      "cndt: [0.40543067 0.20806427], 0.9908890876946209\n",
      "best: [0.43681089 0.20829469], 0.6944856619884483\n",
      "iter: 12\n",
      "Expected to die: 21 @ Iteration #1\n",
      "Expected to die: 21 @ Iteration #2\n",
      "Expected to die: 21 @ Iteration #3\n",
      "\u001b[1m787/787\u001b[0m \u001b[32m━━━━━━━━━━━━━━━━━━━━\u001b[0m\u001b[37m\u001b[0m \u001b[1m1s\u001b[0m 597us/step\n",
      "\u001b[1m1836/1836\u001b[0m \u001b[32m━━━━━━━━━━━━━━━━━━━━\u001b[0m\u001b[37m\u001b[0m \u001b[1m1s\u001b[0m 552us/step\n",
      "cndt: [0.43521034 0.18009712], 1.0\n",
      "best: [0.43681089 0.20829469], 0.6944856619884483\n",
      "iter: 13\n",
      "Expected to die: 21 @ Iteration #1\n",
      "Expected to die: 21 @ Iteration #2\n",
      "Expected to die: 21 @ Iteration #3\n",
      "\u001b[1m787/787\u001b[0m \u001b[32m━━━━━━━━━━━━━━━━━━━━\u001b[0m\u001b[37m\u001b[0m \u001b[1m1s\u001b[0m 682us/step\n",
      "\u001b[1m1836/1836\u001b[0m \u001b[32m━━━━━━━━━━━━━━━━━━━━\u001b[0m\u001b[37m\u001b[0m \u001b[1m1s\u001b[0m 617us/step\n",
      "cndt: [0.41239639 0.20122074], 1.0\n",
      "best: [0.43681089 0.20829469], 0.6944856619884483\n",
      "iter: 14\n",
      "Expected to die: 22 @ Iteration #1\n",
      "Expected to die: 21 @ Iteration #2\n",
      "Expected to die: 21 @ Iteration #3\n",
      "Expected to die: 22 @ Iteration #4\n",
      "\u001b[1m787/787\u001b[0m \u001b[32m━━━━━━━━━━━━━━━━━━━━\u001b[0m\u001b[37m\u001b[0m \u001b[1m1s\u001b[0m 611us/step\n",
      "\u001b[1m1836/1836\u001b[0m \u001b[32m━━━━━━━━━━━━━━━━━━━━\u001b[0m\u001b[37m\u001b[0m \u001b[1m1s\u001b[0m 549us/step\n",
      "nan found in y_test or y_pred, NN loss set to maximum\n",
      "nan found in y_test or y_pred, NN loss set to maximum\n",
      "cndt: [0.45105913 0.2261926 ], 1.0\n",
      "best: [0.43681089 0.20829469], 0.6944856619884483\n",
      "iter: 15\n",
      "Expected to die: 22 @ Iteration #1\n",
      "Expected to die: 22 @ Iteration #2\n",
      "Expected to die: 21 @ Iteration #3\n",
      "Expected to die: 21 @ Iteration #4\n",
      "Expected to die: 20 @ Iteration #5\n",
      "Expected to die: 20 @ Iteration #6\n",
      "Expected to die: 20 @ Iteration #7\n",
      "\u001b[1m787/787\u001b[0m \u001b[32m━━━━━━━━━━━━━━━━━━━━\u001b[0m\u001b[37m\u001b[0m \u001b[1m1s\u001b[0m 616us/step\n",
      "\u001b[1m1836/1836\u001b[0m \u001b[32m━━━━━━━━━━━━━━━━━━━━\u001b[0m\u001b[37m\u001b[0m \u001b[1m1s\u001b[0m 555us/step\n",
      "cndt: [0.42935174 0.18910426], 0.7365173000074482\n",
      "best: [0.43681089 0.20829469], 0.6944856619884483\n",
      "iter: 16\n",
      "Expected to die: 21 @ Iteration #1\n",
      "Expected to die: 21 @ Iteration #2\n",
      "Expected to die: 21 @ Iteration #3\n",
      "\u001b[1m787/787\u001b[0m \u001b[32m━━━━━━━━━━━━━━━━━━━━\u001b[0m\u001b[37m\u001b[0m \u001b[1m1s\u001b[0m 620us/step\n",
      "\u001b[1m1836/1836\u001b[0m \u001b[32m━━━━━━━━━━━━━━━━━━━━\u001b[0m\u001b[37m\u001b[0m \u001b[1m1s\u001b[0m 570us/step\n",
      "cndt: [0.45516442 0.20574201], 0.851826235514448\n",
      "best: [0.43681089 0.20829469], 0.6944856619884483\n",
      "iter: 17\n",
      "Expected to die: 21 @ Iteration #1\n",
      "Expected to die: 21 @ Iteration #2\n",
      "Expected to die: 21 @ Iteration #3\n",
      "\u001b[1m787/787\u001b[0m \u001b[32m━━━━━━━━━━━━━━━━━━━━\u001b[0m\u001b[37m\u001b[0m \u001b[1m1s\u001b[0m 620us/step\n",
      "\u001b[1m1836/1836\u001b[0m \u001b[32m━━━━━━━━━━━━━━━━━━━━\u001b[0m\u001b[37m\u001b[0m \u001b[1m1s\u001b[0m 562us/step\n",
      "cndt: [0.4403248 0.1919919], 0.7239560185813093\n",
      "best: [0.43681089 0.20829469], 0.6944856619884483\n",
      "iter: 18\n",
      "Expected to die: 21 @ Iteration #1\n",
      "Expected to die: 21 @ Iteration #2\n",
      "Expected to die: 21 @ Iteration #3\n"
     ]
    },
    {
     "name": "stderr",
     "output_type": "stream",
     "text": [
      "/home/logankelsch/Behavioral_Search/src/genetic_algorithm/transforms.py:1474: RuntimeWarning: invalid value encountered in divide\n",
      "  np.divide(xptr[:, op_idx], x_denom[:, op_idx], out=xptr[:, op_idx])\n"
     ]
    },
    {
     "name": "stdout",
     "output_type": "stream",
     "text": [
      "\u001b[1m787/787\u001b[0m \u001b[32m━━━━━━━━━━━━━━━━━━━━\u001b[0m\u001b[37m\u001b[0m \u001b[1m1s\u001b[0m 631us/step\n",
      "\u001b[1m1836/1836\u001b[0m \u001b[32m━━━━━━━━━━━━━━━━━━━━\u001b[0m\u001b[37m\u001b[0m \u001b[1m1s\u001b[0m 555us/step\n",
      "cndt: [0.44419508 0.19522726], 0.7354233974920634\n",
      "best: [0.43681089 0.20829469], 0.6944856619884483\n",
      "iter: 19\n",
      "Expected to die: 21 @ Iteration #1\n",
      "Expected to die: 21 @ Iteration #2\n",
      "Expected to die: 21 @ Iteration #3\n"
     ]
    },
    {
     "name": "stderr",
     "output_type": "stream",
     "text": [
      "/home/logankelsch/Behavioral_Search/src/genetic_algorithm/transforms.py:1474: RuntimeWarning: invalid value encountered in divide\n",
      "  np.divide(xptr[:, op_idx], x_denom[:, op_idx], out=xptr[:, op_idx])\n"
     ]
    },
    {
     "name": "stdout",
     "output_type": "stream",
     "text": [
      "\u001b[1m787/787\u001b[0m \u001b[32m━━━━━━━━━━━━━━━━━━━━\u001b[0m\u001b[37m\u001b[0m \u001b[1m1s\u001b[0m 613us/step\n",
      "\u001b[1m1836/1836\u001b[0m \u001b[32m━━━━━━━━━━━━━━━━━━━━\u001b[0m\u001b[37m\u001b[0m \u001b[1m1s\u001b[0m 621us/step\n",
      "cndt: [0.42820441 0.21870663], 0.9069133850707302\n",
      "best: [0.43681089 0.20829469], 0.6944856619884483\n",
      "iter: 20\n",
      "Expected to die: 21 @ Iteration #1\n",
      "Expected to die: 21 @ Iteration #2\n",
      "Expected to die: 21 @ Iteration #3\n"
     ]
    },
    {
     "name": "stderr",
     "output_type": "stream",
     "text": [
      "/home/logankelsch/Behavioral_Search/src/genetic_algorithm/transforms.py:1474: RuntimeWarning: invalid value encountered in divide\n",
      "  np.divide(xptr[:, op_idx], x_denom[:, op_idx], out=xptr[:, op_idx])\n"
     ]
    },
    {
     "name": "stdout",
     "output_type": "stream",
     "text": [
      "\u001b[1m787/787\u001b[0m \u001b[32m━━━━━━━━━━━━━━━━━━━━\u001b[0m\u001b[37m\u001b[0m \u001b[1m1s\u001b[0m 637us/step\n",
      "\u001b[1m1836/1836\u001b[0m \u001b[32m━━━━━━━━━━━━━━━━━━━━\u001b[0m\u001b[37m\u001b[0m \u001b[1m1s\u001b[0m 555us/step\n",
      "cndt: [0.44611846 0.21611632], 0.9338331091996213\n",
      "best: [0.43681089 0.20829469], 0.6944856619884483\n",
      "iter: 21\n",
      "Expected to die: 21 @ Iteration #1\n",
      "Expected to die: 21 @ Iteration #2\n",
      "Expected to die: 22 @ Iteration #3\n"
     ]
    },
    {
     "name": "stderr",
     "output_type": "stream",
     "text": [
      "/home/logankelsch/Behavioral_Search/src/genetic_algorithm/transforms.py:1474: RuntimeWarning: invalid value encountered in divide\n",
      "  np.divide(xptr[:, op_idx], x_denom[:, op_idx], out=xptr[:, op_idx])\n"
     ]
    },
    {
     "name": "stdout",
     "output_type": "stream",
     "text": [
      "\u001b[1m787/787\u001b[0m \u001b[32m━━━━━━━━━━━━━━━━━━━━\u001b[0m\u001b[37m\u001b[0m \u001b[1m1s\u001b[0m 587us/step\n",
      "\u001b[1m1836/1836\u001b[0m \u001b[32m━━━━━━━━━━━━━━━━━━━━\u001b[0m\u001b[37m\u001b[0m \u001b[1m1s\u001b[0m 521us/step\n",
      "cndt: [0.43957437 0.19770751], 0.9425621442215824\n",
      "best: [0.43681089 0.20829469], 0.6944856619884483\n",
      "iter: 22\n",
      "Expected to die: 21 @ Iteration #1\n",
      "Expected to die: 21 @ Iteration #2\n",
      "Expected to die: 22 @ Iteration #3\n",
      "\u001b[1m787/787\u001b[0m \u001b[32m━━━━━━━━━━━━━━━━━━━━\u001b[0m\u001b[37m\u001b[0m \u001b[1m1s\u001b[0m 604us/step\n",
      "\u001b[1m1836/1836\u001b[0m \u001b[32m━━━━━━━━━━━━━━━━━━━━\u001b[0m\u001b[37m\u001b[0m \u001b[1m0s\u001b[0m 256us/step\n",
      "cndt: [0.42884336 0.20250713], 0.9239229805880953\n",
      "best: [0.43681089 0.20829469], 0.6944856619884483\n",
      "iter: 23\n",
      "Expected to die: 22 @ Iteration #1\n",
      "Expected to die: 22 @ Iteration #2\n",
      "Expected to die: 22 @ Iteration #3\n",
      "\u001b[1m787/787\u001b[0m \u001b[32m━━━━━━━━━━━━━━━━━━━━\u001b[0m\u001b[37m\u001b[0m \u001b[1m1s\u001b[0m 628us/step\n",
      "\u001b[1m1836/1836\u001b[0m \u001b[32m━━━━━━━━━━━━━━━━━━━━\u001b[0m\u001b[37m\u001b[0m \u001b[1m1s\u001b[0m 560us/step\n",
      "cndt: [0.43664403 0.21715605], 1.0\n",
      "best: [0.43681089 0.20829469], 0.6944856619884483\n",
      "iter: 24\n",
      "Expected to die: 21 @ Iteration #1\n",
      "Expected to die: 21 @ Iteration #2\n",
      "Expected to die: 21 @ Iteration #3\n",
      "\u001b[1m787/787\u001b[0m \u001b[32m━━━━━━━━━━━━━━━━━━━━\u001b[0m\u001b[37m\u001b[0m \u001b[1m0s\u001b[0m 577us/step\n",
      "\u001b[1m1836/1836\u001b[0m \u001b[32m━━━━━━━━━━━━━━━━━━━━\u001b[0m\u001b[37m\u001b[0m \u001b[1m1s\u001b[0m 547us/step\n",
      "cndt: [0.4297961  0.21209201], 1.0\n",
      "best: [0.43681089 0.20829469], 0.6944856619884483\n"
     ]
    }
   ],
   "source": [
    "import genetic_algorithm.optimize as optimize\n",
    "\n",
    "x, loss, path = optimize.optimize_reproduction(\n",
    "    25, 5, iterations=25, init_x=(0.5, 0.25)\n",
    ")"
   ]
  },
  {
   "cell_type": "code",
   "execution_count": 2,
   "id": "5ccbde1a",
   "metadata": {},
   "outputs": [
    {
     "data": {
      "image/png": "[encoded data removed]",
      "text/plain": [
       "<Figure size 640x480 with 1 Axes>"
      ]
     },
     "metadata": {},
     "output_type": "display_data"
    }
   ],
   "source": [
    "import genetic_algorithm.visualization as visualization\n",
    "\n",
    "visualization.visualize_opt_path(path)"
   ]
  }
 ],
 "metadata": {
  "kernelspec": {
   "display_name": ".venv",
   "language": "python",
   "name": "python3"
  },
  "language_info": {
   "codemirror_mode": {
    "name": "ipython",
    "version": 3
   },
   "file_extension": ".py",
   "mimetype": "text/x-python",
   "name": "python",
   "nbconvert_exporter": "python",
   "pygments_lexer": "ipython3",
   "version": "3.12.3"
  }
 },
 "nbformat": 4,
 "nbformat_minor": 5
}
